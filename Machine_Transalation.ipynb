{
  "nbformat": 4,
  "nbformat_minor": 0,
  "metadata": {
    "colab": {
      "provenance": [],
      "gpuType": "T4",
      "collapsed_sections": [
        "iRmBSxPwXFOu"
      ]
    },
    "kernelspec": {
      "name": "python3",
      "display_name": "Python 3"
    },
    "language_info": {
      "name": "python"
    },
    "accelerator": "GPU"
  },
  "cells": [
    {
      "cell_type": "code",
      "execution_count": 1,
      "metadata": {
        "id": "6vwdhCoaXUzW"
      },
      "outputs": [],
      "source": [
        "from __future__ import unicode_literals, print_function, division\n",
        "from io import open\n",
        "import unicodedata\n",
        "import re\n",
        "import random\n",
        "\n",
        "import torch\n",
        "import torch.nn as nn\n",
        "from torch import optim\n",
        "import torch.nn.functional as F\n",
        "\n",
        "import numpy as np\n",
        "from torch.utils.data import TensorDataset, DataLoader, RandomSampler\n",
        "\n",
        "device = torch.device(\"cuda\" if torch.cuda.is_available() else \"cpu\")"
      ]
    },
    {
      "cell_type": "code",
      "source": [
        "print(device)"
      ],
      "metadata": {
        "colab": {
          "base_uri": "https://localhost:8080/"
        },
        "id": "v93T25tqCY2T",
        "outputId": "18c78f4f-2715-4854-c094-4931527ad914"
      },
      "execution_count": 2,
      "outputs": [
        {
          "output_type": "stream",
          "name": "stdout",
          "text": [
            "cuda\n"
          ]
        }
      ]
    },
    {
      "cell_type": "code",
      "source": [
        "from google.colab import drive\n",
        "drive.mount('/content/drive')"
      ],
      "metadata": {
        "colab": {
          "base_uri": "https://localhost:8080/"
        },
        "id": "eHECx89-ACed",
        "outputId": "c0182ba8-f7fc-4b10-e778-e2116b4e22fb"
      },
      "execution_count": 3,
      "outputs": [
        {
          "output_type": "stream",
          "name": "stdout",
          "text": [
            "Mounted at /content/drive\n"
          ]
        }
      ]
    },
    {
      "cell_type": "markdown",
      "source": [
        "## Load data"
      ],
      "metadata": {
        "id": "egXpzVqPYi0d"
      }
    },
    {
      "cell_type": "code",
      "source": [
        "prefix_file = \"drive/MyDrive/nlp/en_vi\""
      ],
      "metadata": {
        "id": "DkZF0pVkXyoP"
      },
      "execution_count": 4,
      "outputs": []
    },
    {
      "cell_type": "code",
      "source": [
        "SOS_token = 0\n",
        "EOS_token = 1\n",
        "\n",
        "class Lang:\n",
        "    def __init__(self, name):\n",
        "        self.name = name\n",
        "        self.word2index = {}\n",
        "        self.word2count = {}\n",
        "        self.index2word = {0: \"SOS\", 1: \"EOS\"}\n",
        "        self.n_words = 2  # Count SOS and EOS\n",
        "\n",
        "    def addSentence(self, sentence):\n",
        "        for word in sentence.split(' '):\n",
        "            self.addWord(word)\n",
        "\n",
        "    def addWord(self, word):\n",
        "        if word not in self.word2index:\n",
        "            self.word2index[word] = self.n_words\n",
        "            self.word2count[word] = 1\n",
        "            self.index2word[self.n_words] = word\n",
        "            self.n_words += 1\n",
        "        else:\n",
        "            self.word2count[word] += 1"
      ],
      "metadata": {
        "id": "vun7VDJZYGPJ"
      },
      "execution_count": 5,
      "outputs": []
    },
    {
      "cell_type": "code",
      "source": [
        "def unicodeToAscii(s):\n",
        "    return unicodedata.normalize('NFKC', s)  # Chuyển về dạng chuẩn mà không xóa dấu\n",
        "\n",
        "# Không loại bỏ dấu tiếng Việt và giữ lại số\n",
        "def normalizeString(s):\n",
        "    s = s.lower().strip()  # Chuyển về chữ thường và loại bỏ khoảng trắng dư thừa\n",
        "\n",
        "    # Thay thế các HTML phổ biến\n",
        "    s = s.replace(\"&apos;\", \"'\")\n",
        "    s = s.replace(\"&quot;\", \"\\\"\")\n",
        "\n",
        "    # Giữ lại chữ cái, số, dấu câu và ký tự tiếng Việt\n",
        "    s = re.sub(r\"[^a-zA-Z0-9áàảãạăắằẳẵặâấầẩẫậđéèẻẽẹêếềểễệíìỉĩịóòỏõọôốồổỗộơớờởỡợúùủũụưứừửữựýỳỷỹỵ.!?,']+\", \" \", s)\n",
        "\n",
        "    return s.strip()\n"
      ],
      "metadata": {
        "id": "aGepUP06YUpA"
      },
      "execution_count": 6,
      "outputs": []
    },
    {
      "cell_type": "code",
      "source": [
        "def readLangs(src_file, tgt_file, lang1, lang2, reverse=False):\n",
        "    print(\"Reading lines...\")\n",
        "\n",
        "    # Đọc file nguồn và đích\n",
        "    with open(src_file, encoding='utf-8') as f_src, open(tgt_file, encoding='utf-8') as f_tgt:\n",
        "        src_lines = f_src.read().strip().split('\\n')\n",
        "        tgt_lines = f_tgt.read().strip().split('\\n')\n",
        "\n",
        "    # Kiểm tra số lượng dòng phải khớp\n",
        "    assert len(src_lines) == len(tgt_lines), \"Số dòng trong file nguồn và đích không khớp!\"\n",
        "    print(len(src_lines))\n",
        "    print(len(tgt_lines))\n",
        "    # Tạo danh sách cặp câu\n",
        "    pairs = [[normalizeString(src), normalizeString(tgt)] for src, tgt in zip(src_lines, tgt_lines)]\n",
        "\n",
        "    if reverse:\n",
        "        pairs = [list(reversed(p)) for p in pairs]\n",
        "        input_lang = Lang(lang2)\n",
        "        output_lang = Lang(lang1)\n",
        "    else:\n",
        "        input_lang = Lang(lang1)\n",
        "        output_lang = Lang(lang2)\n",
        "\n",
        "    return input_lang, output_lang, pairs"
      ],
      "metadata": {
        "id": "nA8DUEdLYVU-"
      },
      "execution_count": 7,
      "outputs": []
    },
    {
      "cell_type": "code",
      "source": [
        "MAX_LENGTH = 20\n",
        "\n",
        "# eng_prefixes = (\n",
        "#     \"i am \", \"i m \",\n",
        "#     \"he is\", \"he s \",\n",
        "#     \"she is\", \"she s \",\n",
        "#     \"you are\", \"you re \",\n",
        "#     \"we are\", \"we re \",\n",
        "#     \"they are\", \"they re \"\n",
        "# )\n",
        "\n",
        "def filterPair(p):\n",
        "    return len(p[0].split(' ')) < MAX_LENGTH and \\\n",
        "        len(p[1].split(' ')) < MAX_LENGTH\n",
        "\n",
        "\n",
        "def filterPairs(pairs):\n",
        "    return [pair for pair in pairs if filterPair(pair)]"
      ],
      "metadata": {
        "id": "67nvnQU0YXre"
      },
      "execution_count": 8,
      "outputs": []
    },
    {
      "cell_type": "code",
      "source": [
        "def prepareData(lang1, lang2, reverse=False):\n",
        "    input_lang, output_lang, pairs = readLangs(f'{prefix_file}/train.src', f'{prefix_file}/train.tgt', lang1, lang2, reverse)\n",
        "    print(\"Read %s sentence pairs\" % len(pairs))\n",
        "    pairs = filterPairs(pairs)\n",
        "    print(\"Trimmed to %s sentence pairs\" % len(pairs))\n",
        "    print(\"Counting words...\")\n",
        "    for pair in pairs:\n",
        "        input_lang.addSentence(pair[0])\n",
        "        output_lang.addSentence(pair[1])\n",
        "    print(\"Counted words:\")\n",
        "    print(input_lang.name, input_lang.n_words)\n",
        "    print(output_lang.name, output_lang.n_words)\n",
        "    return input_lang, output_lang, pairs\n",
        "\n"
      ],
      "metadata": {
        "id": "lwq_hYE_Yda7"
      },
      "execution_count": 9,
      "outputs": []
    },
    {
      "cell_type": "code",
      "source": [
        "input_lang, output_lang, pairs = prepareData('eng', 'vie', True)\n",
        "print(random.choice(pairs))"
      ],
      "metadata": {
        "colab": {
          "base_uri": "https://localhost:8080/"
        },
        "id": "-yL2UKmHbDzG",
        "outputId": "c5b0bc98-1f5d-4bdf-bcfd-9ba1a4418577"
      },
      "execution_count": 10,
      "outputs": [
        {
          "output_type": "stream",
          "name": "stdout",
          "text": [
            "Reading lines...\n",
            "133317\n",
            "133317\n",
            "Read 133317 sentence pairs\n",
            "Trimmed to 64755 sentence pairs\n",
            "Counting words...\n",
            "Counted words:\n",
            "vie 11750\n",
            "eng 23896\n",
            "['lòng trung thành khách hàng của chúng tôi tăng vọt .', 'our customer loyalty skyrocketed .']\n"
          ]
        }
      ]
    },
    {
      "cell_type": "markdown",
      "source": [
        "## Seq2Seq Model"
      ],
      "metadata": {
        "id": "G9aTXwJqYd_P"
      }
    },
    {
      "cell_type": "code",
      "source": [
        "class EncoderRNN(nn.Module):\n",
        "    def __init__(self, input_size, hidden_size, dropout_p=0.1):\n",
        "        super(EncoderRNN, self).__init__()\n",
        "        self.hidden_size = hidden_size\n",
        "\n",
        "        self.embedding = nn.Embedding(input_size, hidden_size)\n",
        "        self.lstm = nn.LSTM(hidden_size, hidden_size, batch_first=True)\n",
        "        self.dropout = nn.Dropout(dropout_p)\n",
        "\n",
        "    def forward(self, input):\n",
        "        embedded = self.dropout(self.embedding(input))\n",
        "        output, hidden = self.lstm(embedded)\n",
        "        return output, hidden"
      ],
      "metadata": {
        "id": "m08JRVnlZS7B"
      },
      "execution_count": 11,
      "outputs": []
    },
    {
      "cell_type": "code",
      "source": [
        "class DecoderRNN(nn.Module):\n",
        "    def __init__(self, hidden_size, output_size):\n",
        "        super(DecoderRNN, self).__init__()\n",
        "        self.embedding = nn.Embedding(output_size, hidden_size)\n",
        "        self.lstm = nn.LSTM(hidden_size, hidden_size, batch_first=True)\n",
        "        self.out = nn.Linear(hidden_size, output_size)\n",
        "\n",
        "    def forward(self, encoder_outputs, encoder_hidden, target_tensor=None):\n",
        "        batch_size = encoder_outputs.size(0)\n",
        "        decoder_input = torch.empty(batch_size, 1, dtype=torch.long, device=device).fill_(SOS_token)\n",
        "        decoder_hidden = encoder_hidden\n",
        "        decoder_outputs = []\n",
        "\n",
        "        for i in range(MAX_LENGTH):\n",
        "            decoder_output, decoder_hidden  = self.forward_step(decoder_input, decoder_hidden)\n",
        "            decoder_outputs.append(decoder_output)\n",
        "\n",
        "            if target_tensor is not None:\n",
        "                # Teacher forcing: Feed the target as the next input\n",
        "                decoder_input = target_tensor[:, i].unsqueeze(1) # Teacher forcing\n",
        "            else:\n",
        "                # Without teacher forcing: use its own predictions as the next input\n",
        "                _, topi = decoder_output.topk(1)\n",
        "                decoder_input = topi.squeeze(-1).detach()  # detach from history as input\n",
        "\n",
        "        decoder_outputs = torch.cat(decoder_outputs, dim=1)\n",
        "        decoder_outputs = F.log_softmax(decoder_outputs, dim=-1)\n",
        "        return decoder_outputs, decoder_hidden, None # We return `None` for consistency in the training loop\n",
        "\n",
        "    def forward_step(self, input, hidden):\n",
        "        output = self.embedding(input)\n",
        "        output = F.relu(output)\n",
        "        output, hidden = self.lstm(output, hidden)\n",
        "        output = self.out(output)\n",
        "        return output, hidden"
      ],
      "metadata": {
        "id": "wPjV1LdIZ0iK"
      },
      "execution_count": 12,
      "outputs": []
    },
    {
      "cell_type": "markdown",
      "source": [
        "### Attention"
      ],
      "metadata": {
        "id": "6KXVJeU9BGhs"
      }
    },
    {
      "cell_type": "code",
      "source": [
        "class BahdanauAttention(nn.Module):\n",
        "    def __init__(self, hidden_size):\n",
        "        super(BahdanauAttention, self).__init__()\n",
        "        self.Wa = nn.Linear(hidden_size, hidden_size)\n",
        "        self.Ua = nn.Linear(hidden_size, hidden_size)\n",
        "        self.Va = nn.Linear(hidden_size, 1)\n",
        "\n",
        "    def forward(self, query, keys):\n",
        "        scores = self.Va(torch.tanh(self.Wa(query) + self.Ua(keys)))\n",
        "        scores = scores.squeeze(2).unsqueeze(1)\n",
        "\n",
        "        weights = F.softmax(scores, dim=-1)\n",
        "        context = torch.bmm(weights, keys)\n",
        "\n",
        "        return context, weights\n",
        "\n",
        "class AttnDecoderRNN(nn.Module):\n",
        "    def __init__(self, hidden_size, output_size, dropout_p=0.1):\n",
        "        super(AttnDecoderRNN, self).__init__()\n",
        "        self.embedding = nn.Embedding(output_size, hidden_size)\n",
        "        self.attention = BahdanauAttention(hidden_size)\n",
        "        self.lstm = nn.LSTM(2 * hidden_size, hidden_size, batch_first=True)\n",
        "        self.out = nn.Linear(hidden_size, output_size)\n",
        "        self.dropout = nn.Dropout(dropout_p)\n",
        "\n",
        "    def forward(self, encoder_outputs, encoder_hidden, target_tensor=None):\n",
        "        batch_size = encoder_outputs.size(0)\n",
        "        decoder_input = torch.empty(batch_size, 1, dtype=torch.long, device=device).fill_(SOS_token)\n",
        "        decoder_hidden = encoder_hidden\n",
        "        decoder_outputs = []\n",
        "        attentions = []\n",
        "\n",
        "        for i in range(MAX_LENGTH):\n",
        "            decoder_output, decoder_hidden, attn_weights = self.forward_step(\n",
        "                decoder_input, decoder_hidden, encoder_outputs\n",
        "            )\n",
        "            decoder_outputs.append(decoder_output)\n",
        "            attentions.append(attn_weights)\n",
        "\n",
        "            if target_tensor is not None:\n",
        "                # Teacher forcing: Feed the target as the next input\n",
        "                decoder_input = target_tensor[:, i].unsqueeze(1) # Teacher forcing\n",
        "            else:\n",
        "                # Without teacher forcing: use its own predictions as the next input\n",
        "                _, topi = decoder_output.topk(1)\n",
        "                decoder_input = topi.squeeze(-1).detach()  # detach from history as input\n",
        "\n",
        "        decoder_outputs = torch.cat(decoder_outputs, dim=1)\n",
        "        decoder_outputs = F.log_softmax(decoder_outputs, dim=-1)\n",
        "        attentions = torch.cat(attentions, dim=1)\n",
        "\n",
        "        return decoder_outputs, decoder_hidden, attentions\n",
        "\n",
        "\n",
        "    def forward_step(self, input, hidden, encoder_outputs):\n",
        "        embedded =  self.dropout(self.embedding(input))\n",
        "\n",
        "        query = hidden[0].permute(1, 0, 2)\n",
        "        context, attn_weights = self.attention(query, encoder_outputs)\n",
        "        input_lstm = torch.cat((embedded, context), dim=2)\n",
        "\n",
        "        output, hidden = self.lstm(input_lstm, hidden)\n",
        "        output = self.out(output)\n",
        "\n",
        "        return output, hidden, attn_weights"
      ],
      "metadata": {
        "id": "8hciOPxKZ4Km"
      },
      "execution_count": 13,
      "outputs": []
    },
    {
      "cell_type": "markdown",
      "source": [
        "## Define Training"
      ],
      "metadata": {
        "id": "hER4SxiMZ4oD"
      }
    },
    {
      "cell_type": "code",
      "source": [
        "# prepare training data\n",
        "def indexesFromSentence(lang, sentence):\n",
        "    return [lang.word2index[word] for word in sentence.split(' ')]\n",
        "\n",
        "def tensorFromSentence(lang, sentence):\n",
        "    indexes = indexesFromSentence(lang, sentence)\n",
        "    indexes.append(EOS_token)\n",
        "    return torch.tensor(indexes, dtype=torch.long, device=device).view(1, -1)\n",
        "\n",
        "def tensorsFromPair(pair):\n",
        "    input_tensor = tensorFromSentence(input_lang, pair[0])\n",
        "    target_tensor = tensorFromSentence(output_lang, pair[1])\n",
        "    return (input_tensor, target_tensor)\n",
        "\n",
        "def get_dataloader(batch_size):\n",
        "    input_lang, output_lang, pairs = prepareData('eng', 'vie', True)\n",
        "\n",
        "    n = len(pairs)\n",
        "    input_ids = np.zeros((n, MAX_LENGTH), dtype=np.int32)\n",
        "    target_ids = np.zeros((n, MAX_LENGTH), dtype=np.int32)\n",
        "\n",
        "    for idx, (inp, tgt) in enumerate(pairs):\n",
        "        inp_ids = indexesFromSentence(input_lang, inp)\n",
        "        tgt_ids = indexesFromSentence(output_lang, tgt)\n",
        "        inp_ids.append(EOS_token)\n",
        "        tgt_ids.append(EOS_token)\n",
        "        input_ids[idx, :len(inp_ids)] = inp_ids\n",
        "        target_ids[idx, :len(tgt_ids)] = tgt_ids\n",
        "\n",
        "    train_data = TensorDataset(torch.LongTensor(input_ids).to(device),\n",
        "                               torch.LongTensor(target_ids).to(device))\n",
        "\n",
        "    train_sampler = RandomSampler(train_data)\n",
        "    train_dataloader = DataLoader(train_data, sampler=train_sampler, batch_size=batch_size)\n",
        "    return input_lang, output_lang, train_dataloader"
      ],
      "metadata": {
        "id": "Ul-2DTwSZ89W"
      },
      "execution_count": 14,
      "outputs": []
    },
    {
      "cell_type": "code",
      "source": [
        "# train model\n",
        "def train_epoch(dataloader, encoder, decoder, encoder_optimizer,\n",
        "          decoder_optimizer, criterion):\n",
        "\n",
        "    total_loss = 0\n",
        "    for data in dataloader:\n",
        "        input_tensor, target_tensor = data\n",
        "\n",
        "        encoder_optimizer.zero_grad()\n",
        "        decoder_optimizer.zero_grad()\n",
        "\n",
        "        encoder_outputs, encoder_hidden = encoder(input_tensor)\n",
        "        decoder_outputs, _, _ = decoder(encoder_outputs, encoder_hidden, target_tensor)\n",
        "\n",
        "        loss = criterion(\n",
        "            decoder_outputs.view(-1, decoder_outputs.size(-1)),\n",
        "            target_tensor.view(-1)\n",
        "        )\n",
        "        loss.backward()\n",
        "\n",
        "        encoder_optimizer.step()\n",
        "        decoder_optimizer.step()\n",
        "\n",
        "        total_loss += loss.item()\n",
        "\n",
        "    return total_loss / len(dataloader)"
      ],
      "metadata": {
        "id": "ZbPx3MXqaBqL"
      },
      "execution_count": 15,
      "outputs": []
    },
    {
      "cell_type": "code",
      "source": [
        "import time\n",
        "import math\n",
        "\n",
        "def asMinutes(s):\n",
        "    m = math.floor(s / 60)\n",
        "    s -= m * 60\n",
        "    return '%dm %ds' % (m, s)\n",
        "\n",
        "def timeSince(since, percent):\n",
        "    now = time.time()\n",
        "    s = now - since\n",
        "    es = s / (percent)\n",
        "    rs = es - s\n",
        "    return '%s (- %s)' % (asMinutes(s), asMinutes(rs))"
      ],
      "metadata": {
        "id": "jolK77NyaEq-"
      },
      "execution_count": 16,
      "outputs": []
    },
    {
      "cell_type": "code",
      "source": [
        "def train(train_dataloader, encoder, decoder, n_epochs, learning_rate=0.001,\n",
        "               print_every=100, plot_every=100):\n",
        "    start = time.time()\n",
        "    plot_losses = []\n",
        "    print_loss_total = 0  # Reset every print_every\n",
        "    plot_loss_total = 0  # Reset every plot_every\n",
        "\n",
        "    encoder_optimizer = optim.Adam(encoder.parameters(), lr=learning_rate)\n",
        "    decoder_optimizer = optim.Adam(decoder.parameters(), lr=learning_rate)\n",
        "    criterion = nn.NLLLoss()\n",
        "\n",
        "    for epoch in range(1, n_epochs + 1):\n",
        "        loss = train_epoch(train_dataloader, encoder, decoder, encoder_optimizer, decoder_optimizer, criterion)\n",
        "        print_loss_total += loss\n",
        "        plot_loss_total += loss\n",
        "\n",
        "        if epoch % print_every == 0:\n",
        "            print_loss_avg = print_loss_total / print_every\n",
        "            print_loss_total = 0\n",
        "            print('%s (%d %d%%) %.4f' % (timeSince(start, epoch / n_epochs),\n",
        "                                        epoch, epoch / n_epochs * 100, print_loss_avg))\n",
        "\n",
        "        if epoch % plot_every == 0:\n",
        "            plot_loss_avg = plot_loss_total / plot_every\n",
        "            plot_losses.append(plot_loss_avg)\n",
        "            plot_loss_total = 0\n",
        "\n",
        "    showPlot(plot_losses)"
      ],
      "metadata": {
        "id": "tWTq2eJHaHFa"
      },
      "execution_count": 17,
      "outputs": []
    },
    {
      "cell_type": "code",
      "source": [
        "# plot result\n",
        "import matplotlib.pyplot as plt\n",
        "plt.switch_backend('agg')\n",
        "import matplotlib.ticker as ticker\n",
        "import numpy as np\n",
        "\n",
        "def showPlot(points):\n",
        "    plt.figure()\n",
        "    fig, ax = plt.subplots()\n",
        "    # this locator puts ticks at regular intervals\n",
        "    loc = ticker.MultipleLocator(base=0.2)\n",
        "    ax.yaxis.set_major_locator(loc)\n",
        "    plt.plot(points)"
      ],
      "metadata": {
        "id": "ZqERC82paJYa"
      },
      "execution_count": 18,
      "outputs": []
    },
    {
      "cell_type": "markdown",
      "source": [
        "## Define Evaluation"
      ],
      "metadata": {
        "id": "q7Db7OJLaLJ3"
      }
    },
    {
      "cell_type": "code",
      "source": [
        "def evaluate(encoder, decoder, sentence, input_lang, output_lang):\n",
        "    with torch.no_grad():\n",
        "        input_tensor = tensorFromSentence(input_lang, sentence)\n",
        "\n",
        "        encoder_outputs, encoder_hidden = encoder(input_tensor)\n",
        "        decoder_outputs, decoder_hidden, decoder_attn = decoder(encoder_outputs, encoder_hidden)\n",
        "\n",
        "        _, topi = decoder_outputs.topk(1)\n",
        "        decoded_ids = topi.squeeze()\n",
        "\n",
        "        decoded_words = []\n",
        "        for idx in decoded_ids:\n",
        "            if idx.item() == EOS_token:\n",
        "                decoded_words.append('<EOS>')\n",
        "                break\n",
        "            decoded_words.append(output_lang.index2word[idx.item()])\n",
        "    return decoded_words, decoder_attn"
      ],
      "metadata": {
        "id": "gTavG2czaNDb"
      },
      "execution_count": 19,
      "outputs": []
    },
    {
      "cell_type": "code",
      "source": [
        "def evaluateRandomly(encoder, decoder, n=10):\n",
        "    for i in range(n):\n",
        "        pair = random.choice(pairs)\n",
        "        print('>', pair[0])\n",
        "        print('=', pair[1])\n",
        "        output_words, _ = evaluate(encoder, decoder, pair[0], input_lang, output_lang)\n",
        "        output_sentence = ' '.join(output_words)\n",
        "        print('<', output_sentence)\n",
        "        print('')"
      ],
      "metadata": {
        "id": "HBlV94iFaRys"
      },
      "execution_count": 20,
      "outputs": []
    },
    {
      "cell_type": "markdown",
      "source": [
        "## Train and test"
      ],
      "metadata": {
        "id": "xtDMETTdaUvr"
      }
    },
    {
      "cell_type": "markdown",
      "source": [
        "### without attention"
      ],
      "metadata": {
        "id": "iRmBSxPwXFOu"
      }
    },
    {
      "cell_type": "code",
      "source": [
        "hidden_size = 128\n",
        "batch_size = 32\n",
        "\n",
        "input_lang, output_lang, train_dataloader = get_dataloader(batch_size)\n",
        "\n",
        "encoder = EncoderRNN(input_lang.n_words, hidden_size).to(device)\n",
        "decoder = DecoderRNN(hidden_size, output_lang.n_words).to(device)\n",
        "\n",
        "train(train_dataloader, encoder, decoder, 80, print_every=1, plot_every=5)"
      ],
      "metadata": {
        "colab": {
          "base_uri": "https://localhost:8080/"
        },
        "id": "Ejc5GTgHXG5b",
        "outputId": "a4bf5695-bc4b-409d-878a-a30974e27fd2"
      },
      "execution_count": null,
      "outputs": [
        {
          "output_type": "stream",
          "name": "stdout",
          "text": [
            "Reading lines...\n",
            "133317\n",
            "133317\n",
            "Read 133317 sentence pairs\n",
            "Trimmed to 64755 sentence pairs\n",
            "Counting words...\n",
            "Counted words:\n",
            "vie 11750\n",
            "eng 23896\n",
            "0m 59s (- 78m 43s) (1 1%) 2.8914\n",
            "1m 54s (- 74m 34s) (2 2%) 2.3791\n",
            "2m 50s (- 72m 52s) (3 3%) 2.1858\n",
            "3m 46s (- 71m 39s) (4 5%) 2.0485\n",
            "4m 41s (- 70m 17s) (5 6%) 1.9383\n",
            "5m 35s (- 69m 3s) (6 7%) 1.8446\n",
            "6m 30s (- 67m 54s) (7 8%) 1.7637\n",
            "7m 26s (- 66m 58s) (8 10%) 1.6919\n",
            "8m 21s (- 65m 57s) (9 11%) 1.6288\n",
            "9m 16s (- 64m 56s) (10 12%) 1.5719\n",
            "10m 11s (- 63m 54s) (11 13%) 1.5221\n",
            "11m 5s (- 62m 53s) (12 15%) 1.4770\n",
            "12m 1s (- 62m 0s) (13 16%) 1.4360\n",
            "12m 56s (- 61m 0s) (14 17%) 1.3989\n",
            "13m 51s (- 60m 3s) (15 18%) 1.3643\n",
            "14m 46s (- 59m 7s) (16 20%) 1.3324\n",
            "15m 42s (- 58m 11s) (17 21%) 1.3032\n",
            "16m 36s (- 57m 13s) (18 22%) 1.2757\n",
            "17m 31s (- 56m 15s) (19 23%) 1.2498\n",
            "18m 25s (- 55m 17s) (20 25%) 1.2261\n",
            "19m 21s (- 54m 23s) (21 26%) 1.2039\n",
            "20m 17s (- 53m 28s) (22 27%) 1.1830\n",
            "21m 11s (- 52m 31s) (23 28%) 1.1629\n",
            "22m 6s (- 51m 34s) (24 30%) 1.1445\n",
            "23m 1s (- 50m 38s) (25 31%) 1.1269\n",
            "23m 55s (- 49m 42s) (26 32%) 1.1106\n",
            "24m 52s (- 48m 49s) (27 33%) 1.0953\n",
            "25m 46s (- 47m 52s) (28 35%) 1.0801\n",
            "26m 41s (- 46m 56s) (29 36%) 1.0659\n",
            "27m 36s (- 46m 0s) (30 37%) 1.0526\n",
            "28m 31s (- 45m 5s) (31 38%) 1.0401\n",
            "29m 26s (- 44m 10s) (32 40%) 1.0276\n",
            "30m 22s (- 43m 15s) (33 41%) 1.0160\n",
            "31m 16s (- 42m 19s) (34 42%) 1.0048\n",
            "32m 12s (- 41m 24s) (35 43%) 0.9945\n",
            "33m 8s (- 40m 29s) (36 45%) 0.9831\n",
            "34m 3s (- 39m 34s) (37 46%) 0.9738\n",
            "34m 58s (- 38m 39s) (38 47%) 0.9640\n",
            "35m 53s (- 37m 44s) (39 48%) 0.9552\n",
            "36m 50s (- 36m 50s) (40 50%) 0.9462\n",
            "37m 45s (- 35m 54s) (41 51%) 0.9382\n",
            "38m 40s (- 34m 59s) (42 52%) 0.9300\n",
            "39m 35s (- 34m 4s) (43 53%) 0.9223\n",
            "40m 30s (- 33m 8s) (44 55%) 0.9146\n",
            "41m 25s (- 32m 13s) (45 56%) 0.9078\n",
            "42m 20s (- 31m 17s) (46 57%) 0.9004\n",
            "43m 14s (- 30m 21s) (47 58%) 0.8938\n",
            "44m 9s (- 29m 26s) (48 60%) 0.8872\n",
            "45m 4s (- 28m 31s) (49 61%) 0.8806\n",
            "46m 0s (- 27m 36s) (50 62%) 0.8743\n",
            "46m 54s (- 26m 40s) (51 63%) 0.8685\n",
            "47m 49s (- 25m 45s) (52 65%) 0.8627\n",
            "48m 44s (- 24m 49s) (53 66%) 0.8570\n",
            "49m 40s (- 23m 54s) (54 67%) 0.8516\n",
            "50m 35s (- 22m 59s) (55 68%) 0.8464\n",
            "51m 29s (- 22m 4s) (56 70%) 0.8414\n",
            "52m 24s (- 21m 8s) (57 71%) 0.8363\n",
            "53m 18s (- 20m 13s) (58 72%) 0.8316\n",
            "54m 14s (- 19m 18s) (59 73%) 0.8268\n",
            "55m 9s (- 18m 23s) (60 75%) 0.8226\n",
            "56m 4s (- 17m 27s) (61 76%) 0.8181\n",
            "56m 59s (- 16m 32s) (62 77%) 0.8135\n",
            "57m 53s (- 15m 37s) (63 78%) 0.8094\n",
            "58m 49s (- 14m 42s) (64 80%) 0.8053\n",
            "59m 44s (- 13m 47s) (65 81%) 0.8011\n",
            "60m 40s (- 12m 52s) (66 82%) 0.7976\n",
            "61m 35s (- 11m 56s) (67 83%) 0.7936\n",
            "62m 31s (- 11m 2s) (68 85%) 0.7898\n",
            "63m 26s (- 10m 6s) (69 86%) 0.7860\n",
            "64m 21s (- 9m 11s) (70 87%) 0.7828\n",
            "65m 15s (- 8m 16s) (71 88%) 0.7787\n",
            "66m 11s (- 7m 21s) (72 90%) 0.7764\n",
            "67m 10s (- 6m 26s) (73 91%) 0.7722\n",
            "68m 5s (- 5m 31s) (74 92%) 0.7694\n",
            "68m 59s (- 4m 35s) (75 93%) 0.7664\n",
            "69m 54s (- 3m 40s) (76 95%) 0.7635\n",
            "70m 50s (- 2m 45s) (77 96%) 0.7598\n",
            "71m 46s (- 1m 50s) (78 97%) 0.7566\n",
            "72m 40s (- 0m 55s) (79 98%) 0.7548\n",
            "73m 35s (- 0m 0s) (80 100%) 0.7512\n"
          ]
        }
      ]
    },
    {
      "cell_type": "code",
      "source": [
        "hidden_size = 128\n",
        "batch_size = 32\n",
        "\n",
        "input_lang, output_lang, train_dataloader = get_dataloader(batch_size)\n",
        "\n",
        "encoder = EncoderRNN(input_lang.n_words, hidden_size).to(device)\n",
        "decoder = DecoderRNN(hidden_size, output_lang.n_words).to(device)\n",
        "\n",
        "# train(train_dataloader, encoder, decoder, 80, print_every=1, plot_every=5)"
      ],
      "metadata": {
        "colab": {
          "base_uri": "https://localhost:8080/"
        },
        "id": "-PT1egPOwVCJ",
        "outputId": "910b8f0c-c11f-4bd5-ca07-579544c784a5"
      },
      "execution_count": 21,
      "outputs": [
        {
          "output_type": "stream",
          "name": "stdout",
          "text": [
            "Reading lines...\n",
            "133317\n",
            "133317\n",
            "Read 133317 sentence pairs\n",
            "Trimmed to 64755 sentence pairs\n",
            "Counting words...\n",
            "Counted words:\n",
            "vie 11750\n",
            "eng 23896\n"
          ]
        }
      ]
    },
    {
      "cell_type": "code",
      "source": [
        "encoder.load_state_dict(torch.load(\"encoder_model.pth\"))\n",
        "decoder.load_state_dict(torch.load(\"decoder_model.pth\"))\n",
        "# Save encoder and decoder models\n",
        "# torch.save(encoder.state_dict(), \"encoder_model.pth\")\n",
        "# torch.save(decoder.state_dict(), \"decoder_model.pth\")\n",
        "# print(\"Models have been saved.\")\n",
        "\n",
        "encoder.eval()\n",
        "decoder.eval()\n",
        "evaluateRandomly(encoder, decoder)"
      ],
      "metadata": {
        "id": "f_EzwKYiXNUS",
        "colab": {
          "base_uri": "https://localhost:8080/"
        },
        "outputId": "77e42f46-26c2-42a6-be76-665a2aadaac1"
      },
      "execution_count": 22,
      "outputs": [
        {
          "output_type": "stream",
          "name": "stderr",
          "text": [
            "<ipython-input-22-4edafacb0d63>:1: FutureWarning: You are using `torch.load` with `weights_only=False` (the current default value), which uses the default pickle module implicitly. It is possible to construct malicious pickle data which will execute arbitrary code during unpickling (See https://github.com/pytorch/pytorch/blob/main/SECURITY.md#untrusted-models for more details). In a future release, the default value for `weights_only` will be flipped to `True`. This limits the functions that could be executed during unpickling. Arbitrary objects will no longer be allowed to be loaded via this mode unless they are explicitly allowlisted by the user via `torch.serialization.add_safe_globals`. We recommend you start setting `weights_only=True` for any use case where you don't have full control of the loaded file. Please open an issue on GitHub for any issues related to this experimental feature.\n",
            "  encoder.load_state_dict(torch.load(\"encoder_model.pth\"))\n",
            "<ipython-input-22-4edafacb0d63>:2: FutureWarning: You are using `torch.load` with `weights_only=False` (the current default value), which uses the default pickle module implicitly. It is possible to construct malicious pickle data which will execute arbitrary code during unpickling (See https://github.com/pytorch/pytorch/blob/main/SECURITY.md#untrusted-models for more details). In a future release, the default value for `weights_only` will be flipped to `True`. This limits the functions that could be executed during unpickling. Arbitrary objects will no longer be allowed to be loaded via this mode unless they are explicitly allowlisted by the user via `torch.serialization.add_safe_globals`. We recommend you start setting `weights_only=True` for any use case where you don't have full control of the loaded file. Please open an issue on GitHub for any issues related to this experimental feature.\n",
            "  decoder.load_state_dict(torch.load(\"decoder_model.pth\"))\n"
          ]
        },
        {
          "output_type": "stream",
          "name": "stdout",
          "text": [
            "> nhưng ông khá cố chấp đối với âm nhạc .\n",
            "= but he was tough when it came to music .\n",
            "< but bear seemed to affect music that i was . <EOS>\n",
            "\n",
            "> chúng như một dạng bảo hiểm .\n",
            "= they actually act like an insurance .\n",
            "< they like a very different . <EOS>\n",
            "\n",
            "> đến một lúc nào đó , mình sẽ thoát khỏi đây .\n",
            "= at some point i 'm going to get out .\n",
            "< there was a while , i 'll just throw it back . <EOS>\n",
            "\n",
            "> nói một cách nhẹ nhàng thì tôi học không được tốt cho lắm .\n",
            "= to put it mildly , i didn 't do very well .\n",
            "< to me , i don 't even see a very good job . <EOS>\n",
            "\n",
            "> tôi đã tìm hiểu sâu về bản ghép .\n",
            "= i got into fish .\n",
            "< i was trying to understand my interests . <EOS>\n",
            "\n",
            "> tôi đã đọc những tác phẩm của sartre và socrates .\n",
            "= i read sartre and socrates .\n",
            "< i read sartre and socrates . <EOS>\n",
            "\n",
            "> trên thực tế , kết quả đầu tiên đã làm tôi rất , rất , rất thất vọng .\n",
            "= actually , the first results were very , very , very disappointing .\n",
            "< in fact , in fact , i was very first really , very much of us first , too .\n",
            "\n",
            "> có một cô bé đã đứng lên và nói chúng em nên khám phá ở đâu ?\n",
            "= there was a young girl who stood up , and she asked the question where should we explore ?\n",
            "< there 's a baby and who 's got to be the correct ? <EOS>\n",
            "\n",
            "> tôi đã chụp hình anh ấy ở hiện trường vụ án tại sông snake ở idaho .\n",
            "= i photographed him at the scene of the crime at the snake river in idaho .\n",
            "< i photographed him the scene of the river in the west coast . <EOS>\n",
            "\n",
            "> và chúng ta cần phải tập hợp lại với nhau và nói không với các cát dầu .\n",
            "= and we need to all gather together and say no to the tar sands .\n",
            "< and we need to have to be the same with feeling , and we need to dig them . <EOS>\n",
            "\n"
          ]
        }
      ]
    },
    {
      "cell_type": "code",
      "source": [
        "# def showAttention(input_sentence, output_words, attentions):\n",
        "#     import matplotlib.pyplot as plt\n",
        "#     import matplotlib.ticker as ticker\n",
        "\n",
        "#     fig = plt.figure(figsize=(10, 10))  # Đặt kích thước biểu đồ\n",
        "#     ax = fig.add_subplot(111)\n",
        "#     cax = ax.matshow(attentions.cpu().numpy(), cmap='bone')\n",
        "#     fig.colorbar(cax)\n",
        "\n",
        "#     # Tách từ trong input_sentence và output_words\n",
        "#     input_words = input_sentence.split(' ') + ['<EOS>']\n",
        "#     output_words_with_eos = output_words + ['<EOS>']\n",
        "\n",
        "#     # Set số lượng tick dựa trên số lượng từ\n",
        "#     ax.set_xticks(range(len(input_words)))  # Tick trên trục x\n",
        "#     ax.set_yticks(range(len(output_words_with_eos)))  # Tick trên trục y\n",
        "\n",
        "#     # Gán nhãn tick\n",
        "#     ax.set_xticklabels(input_words, rotation=90)  # Nhãn trục x\n",
        "#     ax.set_yticklabels(output_words_with_eos)  # Nhãn trục y\n",
        "\n",
        "#     plt.show()\n",
        "\n",
        "\n",
        "def evaluateSentence(input_sentence):\n",
        "    output_words, _ = evaluate(encoder, decoder, input_sentence, input_lang, output_lang)\n",
        "    print('input =', input_sentence)\n",
        "    print('output =', ' '.join(output_words))\n",
        "    # showAttention(input_sentence, output_words, attentions[0, :len(output_words), :])\n",
        "\n",
        "\n",
        "evaluateSentence('tôi yêu bạn')\n",
        "evaluateSentence('tên bạn là gì')\n",
        "evaluateSentence('tất cả những gì bạn phải làm là đọc to những gì bạn nhìn thấy , được không ?')\n",
        "evaluateSentence('đúng không ? nó tiếp nhận thông tin . nó hình thành hành vi có ích .')\n",
        "evaluateSentence('ngay cả bệnh say sóng cũng là một hậu quả của sự không chắc chắn .')"
      ],
      "metadata": {
        "id": "1_j55mAVXQdK",
        "colab": {
          "base_uri": "https://localhost:8080/"
        },
        "outputId": "ff64034b-5615-4783-a7ce-8fb95bf4ce18"
      },
      "execution_count": 29,
      "outputs": [
        {
          "output_type": "stream",
          "name": "stdout",
          "text": [
            "input = tôi yêu bạn\n",
            "output = i love you . <EOS>\n",
            "input = tên bạn là gì\n",
            "output = your ideal body was there . <EOS>\n",
            "input = tất cả những gì bạn phải làm là đọc to những gì bạn nhìn thấy , được không ?\n",
            "output = all you have to see , you know what you 're doing , what was wrong ? <EOS>\n",
            "input = đúng không ? nó tiếp nhận thông tin . nó hình thành hành vi có ích .\n",
            "output = right ? it 's the bottom of the information that 's going to be buying and become a false course\n",
            "input = ngay cả bệnh say sóng cũng là một hậu quả của sự không chắc chắn .\n",
            "output = even seasickness is a consequence of uncertainty . <EOS>\n"
          ]
        }
      ]
    },
    {
      "cell_type": "markdown",
      "source": [
        "### test"
      ],
      "metadata": {
        "id": "eXWlr97kDOQk"
      }
    },
    {
      "cell_type": "code",
      "source": [
        "def prepareTestData(test_src_file, test_tgt_file, input_lang, output_lang):\n",
        "    _, _, pairs = readLangs(test_src_file, test_tgt_file, input_lang.name, output_lang.name, reverse=True)\n",
        "    print(\"Read %s test sentence pairs\" % len(pairs))\n",
        "    pairs = filterPairs(pairs)\n",
        "    print(\"Filtered to %s test sentence pairs\" % len(pairs))\n",
        "    return pairs\n",
        "test_pairs = prepareTestData(f'{prefix_file}/test.src', f'{prefix_file}/test.tgt', input_lang, output_lang)\n",
        "print(random.choice(test_pairs))\n"
      ],
      "metadata": {
        "colab": {
          "base_uri": "https://localhost:8080/"
        },
        "id": "Tb3_R6ecDPgg",
        "outputId": "914886bd-00ef-4762-d52c-e9f06cc0ebe6"
      },
      "execution_count": null,
      "outputs": [
        {
          "output_type": "stream",
          "name": "stdout",
          "text": [
            "Reading lines...\n",
            "1553\n",
            "1553\n",
            "Read 1553 test sentence pairs\n",
            "Filtered to 795 test sentence pairs\n",
            "['tôi bảo mẹ là tôi không thể làm được .', \"i told my mother i couldn 't do it .\"]\n"
          ]
        }
      ]
    },
    {
      "cell_type": "code",
      "source": [
        "from nltk.translate.bleu_score import sentence_bleu, SmoothingFunction\n",
        "\n",
        "def evaluateWithBLEU(encoder, decoder, test_pairs, input_lang, output_lang):\n",
        "    scores = []\n",
        "\n",
        "    for pair in test_pairs:\n",
        "        input_sentence, target_sentence = pair\n",
        "\n",
        "        # Kiểm tra xem tất cả các từ trong câu có nằm trong từ điển không\n",
        "        if all(word in input_lang.word2index for word in input_sentence.split(' ')):\n",
        "            # Nếu tất cả các từ có trong từ điển, tiến hành dịch câu\n",
        "            output_words, _ = evaluate(encoder, decoder, input_sentence, input_lang, output_lang)\n",
        "            output_sentence = ' '.join(output_words)\n",
        "\n",
        "            reference = [target_sentence.split()]  # Chuẩn bị câu mục tiêu\n",
        "            candidate = output_sentence.split()  # Chuẩn bị câu dự đoán\n",
        "\n",
        "            score = sentence_bleu(reference, candidate)\n",
        "            scores.append(score)\n",
        "        else:\n",
        "            print(f\"Skipping sentence due to unknown words: {input_sentence}\")\n",
        "\n",
        "    if scores:\n",
        "        print(f'Average BLEU score: {sum(scores) / len(scores):.4f}')\n",
        "    else:\n",
        "        print(\"No valid sentences for BLEU score.\")\n"
      ],
      "metadata": {
        "id": "hRm-4KzXDTPB"
      },
      "execution_count": 42,
      "outputs": []
    },
    {
      "cell_type": "code",
      "source": [
        "test_pairs = prepareTestData(f'{prefix_file}/test.src', f'{prefix_file}/test.tgt', input_lang, output_lang)\n",
        "# evaluateOnTestSet(encoder, decoder, test_pairs, input_lang, output_lang)\n",
        "evaluateWithBLEU(encoder, decoder, pairs[:5000], input_lang, output_lang)\n"
      ],
      "metadata": {
        "colab": {
          "base_uri": "https://localhost:8080/"
        },
        "id": "yKUjF2_mDZRT",
        "outputId": "44fbd866-bbc2-409c-cd1e-59d34e10d48b"
      },
      "execution_count": 44,
      "outputs": [
        {
          "output_type": "stream",
          "name": "stdout",
          "text": [
            "Reading lines...\n",
            "1553\n",
            "1553\n",
            "Read 1553 test sentence pairs\n",
            "Filtered to 795 test sentence pairs\n"
          ]
        },
        {
          "output_type": "stream",
          "name": "stderr",
          "text": [
            "/usr/local/lib/python3.10/dist-packages/nltk/translate/bleu_score.py:577: UserWarning: \n",
            "The hypothesis contains 0 counts of 2-gram overlaps.\n",
            "Therefore the BLEU score evaluates to 0, independently of\n",
            "how many N-gram overlaps of lower order it contains.\n",
            "Consider using lower n-gram order or use SmoothingFunction()\n",
            "  warnings.warn(_msg)\n",
            "/usr/local/lib/python3.10/dist-packages/nltk/translate/bleu_score.py:577: UserWarning: \n",
            "The hypothesis contains 0 counts of 3-gram overlaps.\n",
            "Therefore the BLEU score evaluates to 0, independently of\n",
            "how many N-gram overlaps of lower order it contains.\n",
            "Consider using lower n-gram order or use SmoothingFunction()\n",
            "  warnings.warn(_msg)\n",
            "/usr/local/lib/python3.10/dist-packages/nltk/translate/bleu_score.py:577: UserWarning: \n",
            "The hypothesis contains 0 counts of 4-gram overlaps.\n",
            "Therefore the BLEU score evaluates to 0, independently of\n",
            "how many N-gram overlaps of lower order it contains.\n",
            "Consider using lower n-gram order or use SmoothingFunction()\n",
            "  warnings.warn(_msg)\n"
          ]
        },
        {
          "output_type": "stream",
          "name": "stdout",
          "text": [
            "Average BLEU score: 0.1194\n"
          ]
        }
      ]
    },
    {
      "cell_type": "markdown",
      "source": [
        "### with attention"
      ],
      "metadata": {
        "id": "_npriRqWUjAb"
      }
    },
    {
      "cell_type": "code",
      "source": [
        "hidden_size = 128\n",
        "batch_size = 32\n",
        "\n",
        "input_lang, output_lang, train_dataloader = get_dataloader(batch_size)\n",
        "\n",
        "encoder_attention = EncoderRNN(input_lang.n_words, hidden_size).to(device)\n",
        "decoder_attention = AttnDecoderRNN(hidden_size, output_lang.n_words).to(device)\n",
        "\n",
        "train(train_dataloader, encoder_attention, decoder_attention, 80, print_every=5, plot_every=5)"
      ],
      "metadata": {
        "id": "DhvGJscLaWw7",
        "colab": {
          "base_uri": "https://localhost:8080/"
        },
        "outputId": "20ce7b38-0494-453a-d4dc-e4d3af864b91"
      },
      "execution_count": null,
      "outputs": [
        {
          "output_type": "stream",
          "name": "stdout",
          "text": [
            "Reading lines...\n",
            "133317\n",
            "133317\n",
            "Read 133317 sentence pairs\n",
            "Trimmed to 64755 sentence pairs\n",
            "Counting words...\n",
            "Counted words:\n",
            "vie 11750\n",
            "eng 23896\n",
            "7m 35s (- 113m 45s) (5 6%) 2.1631\n",
            "15m 1s (- 105m 10s) (10 12%) 1.4951\n",
            "22m 28s (- 97m 23s) (15 18%) 1.2081\n",
            "29m 55s (- 89m 46s) (20 25%) 1.0475\n",
            "37m 21s (- 82m 11s) (25 31%) 0.9453\n",
            "44m 47s (- 74m 39s) (30 37%) 0.8735\n",
            "52m 16s (- 67m 12s) (35 43%) 0.8190\n",
            "59m 51s (- 59m 51s) (40 50%) 0.7757\n",
            "67m 19s (- 52m 21s) (45 56%) 0.7411\n",
            "74m 46s (- 44m 51s) (50 62%) 0.7117\n",
            "82m 17s (- 37m 24s) (55 68%) 0.6874\n",
            "89m 46s (- 29m 55s) (60 75%) 0.6657\n",
            "97m 14s (- 22m 26s) (65 81%) 0.6471\n",
            "104m 42s (- 14m 57s) (70 87%) 0.6306\n",
            "112m 13s (- 7m 28s) (75 93%) 0.6154\n",
            "119m 42s (- 0m 0s) (80 100%) 0.6025\n"
          ]
        }
      ]
    },
    {
      "cell_type": "code",
      "source": [
        "hidden_size = 128\n",
        "batch_size = 32\n",
        "\n",
        "input_lang, output_lang, train_dataloader = get_dataloader(batch_size)\n",
        "\n",
        "encoder_attention = EncoderRNN(input_lang.n_words, hidden_size).to(device)\n",
        "decoder_attention = AttnDecoderRNN(hidden_size, output_lang.n_words).to(device)\n",
        "\n",
        "# train(train_dataloader, encoder_attention, decoder_attention, 80, print_every=5, plot_every=5)"
      ],
      "metadata": {
        "colab": {
          "base_uri": "https://localhost:8080/"
        },
        "id": "HbHHS_esw5Gs",
        "outputId": "f0b5de83-d3c8-4730-fc14-cb71be2960c0"
      },
      "execution_count": 25,
      "outputs": [
        {
          "output_type": "stream",
          "name": "stdout",
          "text": [
            "Reading lines...\n",
            "133317\n",
            "133317\n",
            "Read 133317 sentence pairs\n",
            "Trimmed to 64755 sentence pairs\n",
            "Counting words...\n",
            "Counted words:\n",
            "vie 11750\n",
            "eng 23896\n"
          ]
        }
      ]
    },
    {
      "cell_type": "code",
      "source": [
        "encoder_attention.load_state_dict(torch.load(\"encoder_attention_model.pth\"))\n",
        "decoder_attention.load_state_dict(torch.load(\"decoder_attention_model.pth\"))\n",
        "# torch.save(encoder_attention.state_dict(), \"encoder_attention_model.pth\")\n",
        "# torch.save(decoder_attention.state_dict(), \"decoder_attention_model.pth\")\n",
        "encoder_attention.eval()\n",
        "decoder_attention.eval()\n",
        "evaluateRandomly(encoder_attention, decoder_attention)"
      ],
      "metadata": {
        "id": "izttz0_KaZKt",
        "colab": {
          "base_uri": "https://localhost:8080/"
        },
        "outputId": "9bc60c65-b632-45cc-8e02-a87fbeb4ebe0"
      },
      "execution_count": 31,
      "outputs": [
        {
          "output_type": "stream",
          "name": "stdout",
          "text": [
            "> carolyn steel thực phẩm định hình các thành phố như thế nào\n",
            "= carolyn steel how food shapes our cities\n",
            "< carolyn steel how genetic food is the cities that 's how the city <EOS>\n",
            "\n",
            "> và chúng tôi muốn làm sao để cảnh giác mọi người ?\n",
            "= and we wanted to do how can we best alert everyone ?\n",
            "< and we wanted to do that what do you think ? <EOS>\n",
            "\n",
            "> từ thứ năm tôi đã mong đến cuối tuần rồi .\n",
            "= i likely already look forward to the weekend on thursdays .\n",
            "< so my time i had been proposed to last weekend . <EOS>\n",
            "\n",
            "> chúng làm điều đó như thế nào ?\n",
            "= how do they do that ?\n",
            "< how do we do that ? <EOS>\n",
            "\n",
            "> những nghiên cứu này bị thiếu sót gì đó .\n",
            "= there 's something missing from these studies .\n",
            "< what causes in missing sense there . <EOS>\n",
            "\n",
            "> giờ ta cần đưa nó vào thực tế .\n",
            "= now we need to get this thing into practice .\n",
            "< now we need to put it into real real time . <EOS>\n",
            "\n",
            "> thay vì nhảy ra khỏi máy bay đúng không ?\n",
            "= so instead of jumping off a plane , yes ?\n",
            "< instead of pulling the verb to the plane , right ? <EOS>\n",
            "\n",
            "> một trong những nhân vật hoạt hình ưa thích của tôi là snoopy .\n",
            "= one of my favorite cartoon characters is snoopy .\n",
            "< one of my favorite cartoon characters is snoopy . <EOS>\n",
            "\n",
            "> lòng tôi như lửa đốt bởi nỗi đau vì yêu em ,\n",
            "= fire runs through my body with the pain of loving you .\n",
            "< i was like to fire as a genius for inspiring him . <EOS>\n",
            "\n",
            "> và cho chữ này , tôi muốn kể bạn nghe câu chuyện\n",
            "= and for this one , i want to tell you a quick story .\n",
            "< and this one , i want to tell you the story . <EOS>\n",
            "\n"
          ]
        },
        {
          "output_type": "stream",
          "name": "stderr",
          "text": [
            "<ipython-input-31-269419648d19>:1: FutureWarning: You are using `torch.load` with `weights_only=False` (the current default value), which uses the default pickle module implicitly. It is possible to construct malicious pickle data which will execute arbitrary code during unpickling (See https://github.com/pytorch/pytorch/blob/main/SECURITY.md#untrusted-models for more details). In a future release, the default value for `weights_only` will be flipped to `True`. This limits the functions that could be executed during unpickling. Arbitrary objects will no longer be allowed to be loaded via this mode unless they are explicitly allowlisted by the user via `torch.serialization.add_safe_globals`. We recommend you start setting `weights_only=True` for any use case where you don't have full control of the loaded file. Please open an issue on GitHub for any issues related to this experimental feature.\n",
            "  encoder_attention.load_state_dict(torch.load(\"encoder_attention_model.pth\"))\n",
            "<ipython-input-31-269419648d19>:2: FutureWarning: You are using `torch.load` with `weights_only=False` (the current default value), which uses the default pickle module implicitly. It is possible to construct malicious pickle data which will execute arbitrary code during unpickling (See https://github.com/pytorch/pytorch/blob/main/SECURITY.md#untrusted-models for more details). In a future release, the default value for `weights_only` will be flipped to `True`. This limits the functions that could be executed during unpickling. Arbitrary objects will no longer be allowed to be loaded via this mode unless they are explicitly allowlisted by the user via `torch.serialization.add_safe_globals`. We recommend you start setting `weights_only=True` for any use case where you don't have full control of the loaded file. Please open an issue on GitHub for any issues related to this experimental feature.\n",
            "  decoder_attention.load_state_dict(torch.load(\"decoder_attention_model.pth\"))\n"
          ]
        }
      ]
    },
    {
      "cell_type": "code",
      "source": [
        "import matplotlib.pyplot as plt\n",
        "import matplotlib.ticker as ticker\n",
        "%matplotlib inline\n",
        "\n",
        "def showAttention(input_sentence, output_words, attentions):\n",
        "    fig = plt.figure()\n",
        "    ax = fig.add_subplot(111)\n",
        "    cax = ax.matshow(attentions.cpu().numpy(), cmap='bone')\n",
        "    fig.colorbar(cax)\n",
        "\n",
        "    # Set up axes\n",
        "    ax.set_xticklabels([''] + input_sentence.split(' ') +\n",
        "                       ['<EOS>'], rotation=90)\n",
        "    ax.set_yticklabels([''] + output_words)\n",
        "\n",
        "    # Show label at every tick\n",
        "    ax.xaxis.set_major_locator(ticker.MultipleLocator(1))\n",
        "    ax.yaxis.set_major_locator(ticker.MultipleLocator(1))\n",
        "\n",
        "    plt.show()\n",
        "\n",
        "def evaluateAndShowAttention(input_sentence):\n",
        "    output_words, attentions = evaluate(encoder_attention, decoder_attention, input_sentence, input_lang, output_lang)\n",
        "    print('input =', input_sentence)\n",
        "    print('output =', ' '.join(output_words))\n",
        "    # print(attentions)\n",
        "    showAttention(input_sentence, output_words, attentions[0, :len(output_words), :])\n",
        "\n",
        "\n",
        "\n",
        "evaluateAndShowAttention('tôi yêu bạn')\n",
        "evaluateAndShowAttention('tên bạn là gì')\n",
        "evaluateAndShowAttention('tất cả những gì bạn phải làm là đọc to những gì bạn nhìn thấy , được không ?')\n",
        "evaluateAndShowAttention('đúng không ? nó tiếp nhận thông tin . nó hình thành hành vi có ích .')\n",
        "evaluateAndShowAttention('ngay cả bệnh say sóng cũng là một hậu quả của sự không chắc chắn .')\n",
        "evaluateAndShowAttention('tôi nhìn qua tấm kính cửa và thấy bà đứng ở bên kia')"
      ],
      "metadata": {
        "id": "gHKLGyjOabdG",
        "colab": {
          "base_uri": "https://localhost:8080/",
          "height": 1000
        },
        "outputId": "206d6f15-c0f4-49f3-8fae-5912574e05bb"
      },
      "execution_count": 48,
      "outputs": [
        {
          "output_type": "stream",
          "name": "stdout",
          "text": [
            "input = tôi yêu bạn\n",
            "output = i love you . <EOS>\n"
          ]
        },
        {
          "output_type": "stream",
          "name": "stderr",
          "text": [
            "<ipython-input-48-ee0ae4cdc7a8>:12: UserWarning: set_ticklabels() should only be used with a fixed number of ticks, i.e. after set_ticks() or using a FixedLocator.\n",
            "  ax.set_xticklabels([''] + input_sentence.split(' ') +\n",
            "<ipython-input-48-ee0ae4cdc7a8>:14: UserWarning: set_ticklabels() should only be used with a fixed number of ticks, i.e. after set_ticks() or using a FixedLocator.\n",
            "  ax.set_yticklabels([''] + output_words)\n"
          ]
        },
        {
          "output_type": "display_data",
          "data": {
            "text/plain": [
              "<Figure size 640x480 with 2 Axes>"
            ],
            "image/png": "[encoded data removed]"
          },
          "metadata": {}
        },
        {
          "output_type": "stream",
          "name": "stdout",
          "text": [
            "input = tên bạn là gì\n",
            "output = what is your name ? <EOS>\n"
          ]
        },
        {
          "output_type": "stream",
          "name": "stderr",
          "text": [
            "<ipython-input-48-ee0ae4cdc7a8>:12: UserWarning: set_ticklabels() should only be used with a fixed number of ticks, i.e. after set_ticks() or using a FixedLocator.\n",
            "  ax.set_xticklabels([''] + input_sentence.split(' ') +\n",
            "<ipython-input-48-ee0ae4cdc7a8>:14: UserWarning: set_ticklabels() should only be used with a fixed number of ticks, i.e. after set_ticks() or using a FixedLocator.\n",
            "  ax.set_yticklabels([''] + output_words)\n"
          ]
        },
        {
          "output_type": "display_data",
          "data": {
            "text/plain": [
              "<Figure size 640x480 with 2 Axes>"
            ],
            "image/png": "[encoded data removed]"
          },
          "metadata": {}
        },
        {
          "output_type": "stream",
          "name": "stdout",
          "text": [
            "input = tất cả những gì bạn phải làm là đọc to những gì bạn nhìn thấy , được không ?\n",
            "output = all you have to do is read what you see , okay ? <EOS>\n"
          ]
        },
        {
          "output_type": "stream",
          "name": "stderr",
          "text": [
            "<ipython-input-48-ee0ae4cdc7a8>:12: UserWarning: set_ticklabels() should only be used with a fixed number of ticks, i.e. after set_ticks() or using a FixedLocator.\n",
            "  ax.set_xticklabels([''] + input_sentence.split(' ') +\n",
            "<ipython-input-48-ee0ae4cdc7a8>:14: UserWarning: set_ticklabels() should only be used with a fixed number of ticks, i.e. after set_ticks() or using a FixedLocator.\n",
            "  ax.set_yticklabels([''] + output_words)\n"
          ]
        },
        {
          "output_type": "display_data",
          "data": {
            "text/plain": [
              "<Figure size 640x480 with 2 Axes>"
            ],
            "image/png": "[encoded data removed]"
          },
          "metadata": {}
        },
        {
          "output_type": "stream",
          "name": "stdout",
          "text": [
            "input = đúng không ? nó tiếp nhận thông tin . nó hình thành hành vi có ích .\n",
            "output = right ? it 's directly information . it 's generating behavior that 's useful . <EOS>\n"
          ]
        },
        {
          "output_type": "stream",
          "name": "stderr",
          "text": [
            "<ipython-input-48-ee0ae4cdc7a8>:12: UserWarning: set_ticklabels() should only be used with a fixed number of ticks, i.e. after set_ticks() or using a FixedLocator.\n",
            "  ax.set_xticklabels([''] + input_sentence.split(' ') +\n",
            "<ipython-input-48-ee0ae4cdc7a8>:14: UserWarning: set_ticklabels() should only be used with a fixed number of ticks, i.e. after set_ticks() or using a FixedLocator.\n",
            "  ax.set_yticklabels([''] + output_words)\n"
          ]
        },
        {
          "output_type": "display_data",
          "data": {
            "text/plain": [
              "<Figure size 640x480 with 2 Axes>"
            ],
            "image/png": "[encoded data removed]"
          },
          "metadata": {}
        },
        {
          "output_type": "stream",
          "name": "stdout",
          "text": [
            "input = ngay cả bệnh say sóng cũng là một hậu quả của sự không chắc chắn .\n",
            "output = even seasickness is a consequence of uncertainty . <EOS>\n"
          ]
        },
        {
          "output_type": "stream",
          "name": "stderr",
          "text": [
            "<ipython-input-48-ee0ae4cdc7a8>:12: UserWarning: set_ticklabels() should only be used with a fixed number of ticks, i.e. after set_ticks() or using a FixedLocator.\n",
            "  ax.set_xticklabels([''] + input_sentence.split(' ') +\n",
            "<ipython-input-48-ee0ae4cdc7a8>:14: UserWarning: set_ticklabels() should only be used with a fixed number of ticks, i.e. after set_ticks() or using a FixedLocator.\n",
            "  ax.set_yticklabels([''] + output_words)\n"
          ]
        },
        {
          "output_type": "display_data",
          "data": {
            "text/plain": [
              "<Figure size 640x480 with 2 Axes>"
            ],
            "image/png": "[encoded data removed]"
          },
          "metadata": {}
        },
        {
          "output_type": "stream",
          "name": "stdout",
          "text": [
            "input = tôi nhìn qua tấm kính cửa và thấy bà đứng ở bên kia\n",
            "output = i looked at the glass of a window and she saw on the other side . <EOS>\n"
          ]
        },
        {
          "output_type": "stream",
          "name": "stderr",
          "text": [
            "<ipython-input-48-ee0ae4cdc7a8>:12: UserWarning: set_ticklabels() should only be used with a fixed number of ticks, i.e. after set_ticks() or using a FixedLocator.\n",
            "  ax.set_xticklabels([''] + input_sentence.split(' ') +\n",
            "<ipython-input-48-ee0ae4cdc7a8>:14: UserWarning: set_ticklabels() should only be used with a fixed number of ticks, i.e. after set_ticks() or using a FixedLocator.\n",
            "  ax.set_yticklabels([''] + output_words)\n"
          ]
        },
        {
          "output_type": "display_data",
          "data": {
            "text/plain": [
              "<Figure size 640x480 with 2 Axes>"
            ],
            "image/png": "[encoded data removed]"
          },
          "metadata": {}
        }
      ]
    },
    {
      "cell_type": "code",
      "source": [
        "def prepareTestData(test_src_file, test_tgt_file, input_lang, output_lang):\n",
        "    _, _, pairs = readLangs(test_src_file, test_tgt_file, input_lang.name, output_lang.name, reverse=True)\n",
        "    print(\"Read %s test sentence pairs\" % len(pairs))\n",
        "    pairs = filterPairs(pairs)\n",
        "    print(\"Filtered to %s test sentence pairs\" % len(pairs))\n",
        "    return pairs\n",
        "test_pairs = prepareTestData(f'{prefix_file}/test.src', f'{prefix_file}/test.tgt', input_lang, output_lang)\n",
        "print(random.choice(test_pairs))\n"
      ],
      "metadata": {
        "colab": {
          "base_uri": "https://localhost:8080/"
        },
        "id": "dfDIVY2s9GQU",
        "outputId": "9149a832-d345-4fa2-df0f-58193ebfa0bc"
      },
      "execution_count": 34,
      "outputs": [
        {
          "output_type": "stream",
          "name": "stdout",
          "text": [
            "Reading lines...\n",
            "1553\n",
            "1553\n",
            "Read 1553 test sentence pairs\n",
            "Filtered to 795 test sentence pairs\n",
            "['tôi nhìn qua tấm kính cửa và thấy bà đứng ở bên kia', 'i looked through the shower screen and saw her standing on the other side .']\n"
          ]
        }
      ]
    },
    {
      "cell_type": "code",
      "source": [
        "from nltk.translate.bleu_score import sentence_bleu, SmoothingFunction\n",
        "\n",
        "def evaluateWithBLEU(encoder, decoder, test_pairs, input_lang, output_lang):\n",
        "    scores = []\n",
        "    smoothing_function = SmoothingFunction().method1  # Thêm smoothing function\n",
        "\n",
        "    for pair in test_pairs:\n",
        "        input_sentence, target_sentence = pair\n",
        "\n",
        "        # Kiểm tra xem tất cả các từ trong câu có nằm trong từ điển không\n",
        "        if all(word in input_lang.word2index for word in input_sentence.split(' ')):\n",
        "            # Nếu tất cả các từ có trong từ điển, tiến hành dịch câu\n",
        "            output_words, _ = evaluate(encoder, decoder, input_sentence, input_lang, output_lang)\n",
        "            output_sentence = ' '.join(output_words)\n",
        "\n",
        "            reference = [target_sentence.split()]  # Chuẩn bị câu mục tiêu\n",
        "            candidate = output_sentence.split()  # Chuẩn bị câu dự đoán\n",
        "\n",
        "            # Tính điểm BLEU với smoothing function\n",
        "            score = sentence_bleu(reference, candidate, smoothing_function=smoothing_function)\n",
        "            scores.append(score)\n",
        "        else:\n",
        "            print(f\"Skipping sentence due to unknown words: {input_sentence}\")\n",
        "\n",
        "    if scores:\n",
        "        print(f'Average BLEU score: {sum(scores) / len(scores):.4f}')\n",
        "    else:\n",
        "        print(\"No valid sentences for BLEU score.\")"
      ],
      "metadata": {
        "id": "bjSNRGtU9KAz"
      },
      "execution_count": null,
      "outputs": []
    },
    {
      "cell_type": "code",
      "source": [
        "test_pairs = prepareTestData(f'{prefix_file}/valid.src', f'{prefix_file}/valid.tgt', input_lang, output_lang)\n",
        "# evaluateOnTestSet(encoder, decoder, test_pairs, input_lang, output_lang)\n",
        "evaluateWithBLEU(encoder_attention, decoder_attention, pairs[:5000], input_lang, output_lang)\n"
      ],
      "metadata": {
        "colab": {
          "base_uri": "https://localhost:8080/"
        },
        "id": "eD7VcusS9M_2",
        "outputId": "7d45c9b3-f91a-4853-d3d6-99fe0cb72203"
      },
      "execution_count": 47,
      "outputs": [
        {
          "output_type": "stream",
          "name": "stdout",
          "text": [
            "Reading lines...\n",
            "1268\n",
            "1268\n",
            "Read 1268 test sentence pairs\n",
            "Filtered to 518 test sentence pairs\n"
          ]
        },
        {
          "output_type": "stream",
          "name": "stderr",
          "text": [
            "/usr/local/lib/python3.10/dist-packages/nltk/translate/bleu_score.py:577: UserWarning: \n",
            "The hypothesis contains 0 counts of 2-gram overlaps.\n",
            "Therefore the BLEU score evaluates to 0, independently of\n",
            "how many N-gram overlaps of lower order it contains.\n",
            "Consider using lower n-gram order or use SmoothingFunction()\n",
            "  warnings.warn(_msg)\n",
            "/usr/local/lib/python3.10/dist-packages/nltk/translate/bleu_score.py:577: UserWarning: \n",
            "The hypothesis contains 0 counts of 3-gram overlaps.\n",
            "Therefore the BLEU score evaluates to 0, independently of\n",
            "how many N-gram overlaps of lower order it contains.\n",
            "Consider using lower n-gram order or use SmoothingFunction()\n",
            "  warnings.warn(_msg)\n",
            "/usr/local/lib/python3.10/dist-packages/nltk/translate/bleu_score.py:577: UserWarning: \n",
            "The hypothesis contains 0 counts of 4-gram overlaps.\n",
            "Therefore the BLEU score evaluates to 0, independently of\n",
            "how many N-gram overlaps of lower order it contains.\n",
            "Consider using lower n-gram order or use SmoothingFunction()\n",
            "  warnings.warn(_msg)\n"
          ]
        },
        {
          "output_type": "stream",
          "name": "stdout",
          "text": [
            "Average BLEU score: 0.2680\n"
          ]
        }
      ]
    },
    {
      "cell_type": "code",
      "source": [],
      "metadata": {
        "id": "GrF43dvC5E80"
      },
      "execution_count": 46,
      "outputs": []
    }
  ]
}